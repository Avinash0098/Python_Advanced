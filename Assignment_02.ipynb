{
 "cells": [
  {
   "cell_type": "markdown",
   "id": "df8c0a80",
   "metadata": {},
   "source": [
    "# Assignment_02"
   ]
  },
  {
   "cell_type": "markdown",
   "id": "ecb9b9ac",
   "metadata": {},
   "source": [
    "### Q1. What is the relationship between classes and modules?"
   ]
  },
  {
   "cell_type": "code",
   "execution_count": null,
   "id": "1587acf3",
   "metadata": {},
   "outputs": [],
   "source": [
    "Class:\n",
    "\n",
    "    1. A Class is like an object constructor, or a \"blueprint\" for creating objects.\n",
    "    2. a class can be instantiated.\n",
    "    3. Class can hold its state (by keeping track of instance variables)\n",
    "    4. class be duplicated as many times as you want by creating objects(instances)\n",
    "Module:\n",
    "\n",
    "    1. A module is a file containing Python definitions and statements. The file name is the module name with \n",
    "       the suffix .py appended. Within a module, the module’s name (as a string) is available as the value of \n",
    "       the global variable __name__. \n",
    "    2. Modules can be imported.\n",
    "    3. Module methods can be included or extended into instance methods."
   ]
  },
  {
   "cell_type": "markdown",
   "id": "257fe6ef",
   "metadata": {},
   "source": [
    "### Q2. How do you make instances and classes?"
   ]
  },
  {
   "cell_type": "code",
   "execution_count": null,
   "id": "0b2f852a",
   "metadata": {},
   "outputs": [],
   "source": [
    "Instances To create instances of a class, we call the class using class name and pass in whatever arguments its init method accepts.\n",
    "\n",
    "Ex objclass = ClasseA(2,4)\n",
    "objclass is instance of class.\n",
    "Classes A class is a user-defined blueprint or prototype from which objects are created.\n",
    "\n",
    "ex : def classA:\n",
    "        pass "
   ]
  },
  {
   "cell_type": "markdown",
   "id": "b75a08b3",
   "metadata": {},
   "source": [
    "### Q3. Where and how should be class attributes created?"
   ]
  },
  {
   "cell_type": "code",
   "execution_count": null,
   "id": "ea1be454",
   "metadata": {},
   "outputs": [],
   "source": [
    "A class attribute is a Python variable that belongs to a class rather than a particular object. It is shared between all the objects of this class and it is defined outside the constructor function, init(self,...), of the class.\n",
    "\n",
    "The below ExampleClass is a basic Python class with two attributes: class_attr\n",
    "\n",
    "class ExampleClass(object):\n",
    "  class_attr = 0\n",
    "\n",
    "  def __init__(self, instance_attr):\n",
    "    self.instance_attr = instance_attr\n",
    "The class attribute (class_attr) is accessible as both a property of the class and as a property of objects, as it is shared between all of them"
   ]
  },
  {
   "cell_type": "markdown",
   "id": "d467d313",
   "metadata": {},
   "source": [
    "### Q4. Where and how are instance attributes created?"
   ]
  },
  {
   "cell_type": "code",
   "execution_count": null,
   "id": "8914d8fc",
   "metadata": {},
   "outputs": [],
   "source": [
    "An instance attribute is a Python variable belonging to one, and only one, object. This variable is only accessible in the scope of this object and it is defined inside the constructor function, init(self,..) of the class.\n",
    "\n",
    "class ExampleClass(object):\n",
    "class_attr = 0\n",
    "\n",
    "  def __init__(self, instance_attr):\n",
    "    self.instance_attr = instance_attr\n",
    "The instance_attr is only accessible from the scope of an object\n",
    "Notice that the class attribute can be accessed as a class property and as an instance property, however, accessing an instance attribute as a class property raises an AttributeError."
   ]
  },
  {
   "cell_type": "markdown",
   "id": "1706900a",
   "metadata": {},
   "source": [
    "### Q5. What does the term \"self\" in a Python class mean?"
   ]
  },
  {
   "cell_type": "code",
   "execution_count": null,
   "id": "07d1ff48",
   "metadata": {},
   "outputs": [],
   "source": [
    "The self parameter is a reference to the current instance of the class, and is used to access variables that \n",
    "belongs to the class. It does not have to be named self , you can call it whatever you like, \n",
    "but it has to be the first parameter of any function in the class"
   ]
  },
  {
   "cell_type": "markdown",
   "id": "2329ed5b",
   "metadata": {},
   "source": [
    "### Q6. How does a Python class handle operator overloading?"
   ]
  },
  {
   "cell_type": "code",
   "execution_count": null,
   "id": "d36228ac",
   "metadata": {},
   "outputs": [],
   "source": [
    "To achieve operator overloading, we define a special method in a class definition. The name of the method should begin and end with a double underscore (). The + operator is overloaded using a special method named _add() . This method is implemented by both the int and str classes.\n",
    "\n",
    "following are some of the operator overloading magic function from python\n",
    "\n",
    "+    __add__(self, other)\n",
    "–    __sub__(self, other)\n",
    "*    __mul__(self, other)\n",
    "/    __truediv__(self, other)\n",
    "//    __floordiv__(self, other)\n",
    "%    __mod__(self, other)\n",
    "**    __pow__(self, other)"
   ]
  },
  {
   "cell_type": "markdown",
   "id": "56d9b738",
   "metadata": {},
   "source": [
    "### Q7. When do you consider allowing operator overloading of your classes?"
   ]
  },
  {
   "cell_type": "code",
   "execution_count": null,
   "id": "bd8d034f",
   "metadata": {},
   "outputs": [],
   "source": [
    "Consider that we have two objects which are a physical representation of a class (user-defined data type) \n",
    "and we have to add two objects with binary ‘+’ operator it throws an error, because compiler don’t know how to add two objects. \n",
    "So we define a method for an operator and that process is called operator overloading. \n",
    "Now the + operator will perform arithmetic addition on two numbers, merge two lists, or concatenate two strings."
   ]
  },
  {
   "cell_type": "markdown",
   "id": "84415a4e",
   "metadata": {},
   "source": [
    "### Q8. What is the most popular form of operator overloading?"
   ]
  },
  {
   "cell_type": "code",
   "execution_count": null,
   "id": "0afdc6c2",
   "metadata": {},
   "outputs": [],
   "source": [
    "The + Operator is most popular operator overloding. When we use + operator, the magic method add is automatically invoked in which \n",
    "the operation for + operator is defined. There by changing this magic method’s code, we can give extra meaning to the + operator. \n",
    "Python operators work for built-in classes. But the same operator behaves differently with different types. For example, \n",
    "the + operator will perform arithmetic addition on two numbers, merge two lists, or concatenate two strings.\n",
    "\n",
    "This feature in Python that allows the same operator to have different meaning according to the context is called operator \n",
    "overloading."
   ]
  },
  {
   "cell_type": "markdown",
   "id": "e5aa30f5",
   "metadata": {},
   "source": [
    "### Q9. What are the two most important concepts to grasp in order to comprehend Python OOP code?"
   ]
  },
  {
   "cell_type": "code",
   "execution_count": null,
   "id": "c1cba019",
   "metadata": {},
   "outputs": [],
   "source": [
    "The tow most important concept in order to comprehend python oop code are Classes and objects. where, classes represent and define concepts, \n",
    "while objects are instances of classes"
   ]
  }
 ],
 "metadata": {
  "kernelspec": {
   "display_name": "Python 3 (ipykernel)",
   "language": "python",
   "name": "python3"
  },
  "language_info": {
   "codemirror_mode": {
    "name": "ipython",
    "version": 3
   },
   "file_extension": ".py",
   "mimetype": "text/x-python",
   "name": "python",
   "nbconvert_exporter": "python",
   "pygments_lexer": "ipython3",
   "version": "3.9.12"
  }
 },
 "nbformat": 4,
 "nbformat_minor": 5
}
