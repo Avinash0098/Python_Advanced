{
 "cells": [
  {
   "cell_type": "markdown",
   "id": "7cf0747e",
   "metadata": {},
   "source": [
    "# Assignment_24"
   ]
  },
  {
   "cell_type": "markdown",
   "id": "832c7061",
   "metadata": {},
   "source": [
    "### Q1. Is it permissible to use several import statements to import the same module? What would the goal be? Can you think of a situation where it would be beneficial?\n",
    "\n"
   ]
  },
  {
   "cell_type": "code",
   "execution_count": null,
   "id": "7eab11fe",
   "metadata": {},
   "outputs": [],
   "source": [
    "Ans: Yes, it is permissible to use several import statements to import the same module. \n",
    "    It is used in case when we have to import multiple functions from same module."
   ]
  },
  {
   "cell_type": "markdown",
   "id": "a821673e",
   "metadata": {},
   "source": [
    "### Q2. What are some of a module's characteristics? (Name at least one.)\n",
    "\n",
    "\n",
    "\n",
    "\n",
    "\n",
    "\n",
    "\n"
   ]
  },
  {
   "cell_type": "code",
   "execution_count": null,
   "id": "527e1933",
   "metadata": {},
   "outputs": [],
   "source": [
    "Ans: The following are some of a module's characteristics:\n",
    "\n",
    "__name__ : It returns the name of the module\n",
    "__doc__ : It denotes the documentation string line written in a module code.\n",
    "__file__ : It holds the name and path of the module file from which it is loaded\n",
    "__dict__ : It return a dictionary object of module attributes, functions and other definitions and their respective values"
   ]
  },
  {
   "cell_type": "markdown",
   "id": "fb365a9f",
   "metadata": {},
   "source": [
    "### Q3. Circular importing, such as when two modules import each other, can lead to dependencies and bugs that aren't visible. How can you go about creating a program that avoids mutual importing?\n",
    "\n"
   ]
  },
  {
   "cell_type": "code",
   "execution_count": null,
   "id": "e3721c06",
   "metadata": {},
   "outputs": [],
   "source": [
    "Ans: Circular importing means importing the two modules in each other. If suppose we are wokring in MOD1.py file and \n",
    "    it is importing some function say F2() from some other module say MOD2.PY file or we can do vice-versa. \n",
    "    What will happen is: This will give an import error.\n",
    "\n",
    "This is because when we import F2() function from module MOD2.py, then this will execute MOD2.py file. \n",
    "And in MOD2.py file there is an another statement of importing MOD1.py module.\n",
    "\n",
    "This will result in endless loop. To avoid this error just do one thingWe can use if __name__ == '__main__'\n",
    "\n",
    "In the function, you can't directly refer to the function in the program. \n",
    "The addition of this sentence avoids the endless loop of the program ."
   ]
  },
  {
   "cell_type": "markdown",
   "id": "45fa34a7",
   "metadata": {},
   "source": [
    "### Q4. Why is  _ _all_ _ in Python?\n",
    "\n",
    "\n"
   ]
  },
  {
   "cell_type": "code",
   "execution_count": null,
   "id": "846ebfb7",
   "metadata": {},
   "outputs": [],
   "source": [
    "Ans: It provides list of all modules present in a library."
   ]
  },
  {
   "cell_type": "markdown",
   "id": "34c1ab85",
   "metadata": {},
   "source": [
    "### Q5. In what situation is it useful to refer to the _ _name_ _ attribute or the string '_ _main_ _'?\n",
    "\n"
   ]
  },
  {
   "cell_type": "code",
   "execution_count": null,
   "id": "5e1196bc",
   "metadata": {},
   "outputs": [],
   "source": [
    "Ans: During the time of execution of the code if we want to refer the module in which we are working on then we uses name attribute. \n",
    "    In that case it will return the module in which we are working on. Suppose if that moudle is being imported from some other module \n",
    "then name will have the name of that moudle from where the current module has been imported. The current module in which we are working is refer to the string __main __."
   ]
  },
  {
   "cell_type": "markdown",
   "id": "60f28fe8",
   "metadata": {},
   "source": [
    "### Q6. What are some of the benefits of attaching a program counter to the RPN interpreter application, which interprets an RPN script line by line?\n",
    "\n"
   ]
  },
  {
   "cell_type": "code",
   "execution_count": null,
   "id": "67454acf",
   "metadata": {},
   "outputs": [],
   "source": [
    "Attaching a program counter to an RPN interpreter application that interprets an RPN script line by line can provide \n",
    "several benefits, including:\n",
    "\n",
    "1. Improved control flow: With a program counter, the RPN interpreter can keep track of which line of code it is currently executing, allowing it to control the flow of the program more effectively. This can be particularly useful when implementing control structures like loops and conditional statements.\n",
    "\n",
    "2. Error handling: If an error occurs during execution of an RPN script, the program counter can help identify the line of code where the error occurred, making it easier to diagnose and correct the problem.\n",
    "\n",
    "3. Debugging: When debugging an RPN script, the program counter can be used to step through the code line by line, allowing developers to see exactly how the interpreter is interpreting each line of code and identify any issues or bugs.\n",
    "\n",
    "4. Optimization: The program counter can also be used to optimize the execution of RPN scripts. For example, if the interpreter encounters a loop, it can use the program counter to jump back to the beginning of the loop, rather than executing the loop code repeatedly.\n",
    "\n",
    "Overall, attaching a program counter to an RPN interpreter application can improve the performance, reliability, and maintainability of the application.\n",
    "\n",
    "\n",
    "\n"
   ]
  },
  {
   "cell_type": "markdown",
   "id": "7b607051",
   "metadata": {},
   "source": [
    "### Q7. What are the minimum expressions or statements (or both) that you'd need to render a basic programming language like RPN primitive but complete— that is, capable of carrying out any computerised task theoretically possible?\n"
   ]
  },
  {
   "cell_type": "code",
   "execution_count": null,
   "id": "ddce63c3",
   "metadata": {},
   "outputs": [],
   "source": [
    "To render a basic programming language like RPN primitive but complete, capable of carrying out any computerized task \n",
    "theoretically possible, you would need at least the following expressions or statements:\n",
    "\n",
    "1. Arithmetic operators: Addition (+), subtraction (-), multiplication (*), division (/), and exponentiation (^).\n",
    "\n",
    "2. Stack manipulation operators: Push (which adds a value to the top of the stack), pop (which removes the value at the top of the stack), and duplicate (which duplicates the value at the top of the stack).\n",
    "\n",
    "3. Control flow statements: Conditional statements (such as if-else), loops (such as while and for loops), and function definitions (to allow for code reusability).\n",
    "\n",
    "4. Input/output statements: Statements to input data from the user or external sources, and to output data to the user or external destinations.\n",
    "\n",
    "5. Variable declarations and assignments: Statements to declare and assign values to variables, which can be used throughout the program."
   ]
  }
 ],
 "metadata": {
  "kernelspec": {
   "display_name": "Python 3 (ipykernel)",
   "language": "python",
   "name": "python3"
  },
  "language_info": {
   "codemirror_mode": {
    "name": "ipython",
    "version": 3
   },
   "file_extension": ".py",
   "mimetype": "text/x-python",
   "name": "python",
   "nbconvert_exporter": "python",
   "pygments_lexer": "ipython3",
   "version": "3.9.12"
  }
 },
 "nbformat": 4,
 "nbformat_minor": 5
}
